{
  "nbformat": 4,
  "nbformat_minor": 0,
  "metadata": {
    "colab": {
      "provenance": [],
      "authorship_tag": "ABX9TyNYba8WNRht8UvhDSwYowAV",
      "include_colab_link": true
    },
    "kernelspec": {
      "name": "python3",
      "display_name": "Python 3"
    },
    "language_info": {
      "name": "python"
    }
  },
  "cells": [
    {
      "cell_type": "markdown",
      "metadata": {
        "id": "view-in-github",
        "colab_type": "text"
      },
      "source": [
        "<a href=\"https://colab.research.google.com/github/SatarupaB/python_learning/blob/main/dsa/search/binary_search.ipynb\" target=\"_parent\"><img src=\"https://colab.research.google.com/assets/colab-badge.svg\" alt=\"Open In Colab\"/></a>"
      ]
    },
    {
      "cell_type": "code",
      "execution_count": 1,
      "metadata": {
        "id": "YVL7cfMJoDEK"
      },
      "outputs": [],
      "source": [
        "def binary_search(my_arr, element):\n",
        "  \"\"\"\n",
        "    Perform binary search on a sorted array to find the target element.\n",
        "    Returns the index of the target if found, else returns -1.\n",
        "  \"\"\"\n",
        "  my_arr.sort()\n",
        "\n",
        "  l = 0 # Start of the search range\n",
        "  r = len(my_arr) - 1 # End of the search range\n",
        "\n",
        "  while (l <= r):\n",
        "    m = (l+r) // 2 # Find the middle index\n",
        "\n",
        "    # Check if the middle element is the target\n",
        "    if (my_arr[m] == element):\n",
        "      return m\n",
        "\n",
        "    # If target is smaller, ignore the right half\n",
        "    elif (element < my_arr[m]):\n",
        "      r = m - 1\n",
        "\n",
        "    # If target is larger, ignore the left half\n",
        "    else:\n",
        "      l = m + 1\n",
        "\n",
        "  # Target is not present in the array\n",
        "  return -1\n",
        "\n",
        "\n"
      ]
    },
    {
      "cell_type": "code",
      "source": [
        "index = binary_search([1, 89, 3, 8, 200], 8)\n",
        "\n",
        "if (index != -1):\n",
        "  print(f\"element found at {index}\")\n",
        "else:\n",
        "  print(\"element not found\")"
      ],
      "metadata": {
        "colab": {
          "base_uri": "https://localhost:8080/"
        },
        "id": "hWUEipYup8QL",
        "outputId": "f96633bd-8b34-454c-ff84-0525a4e373a8"
      },
      "execution_count": 2,
      "outputs": [
        {
          "output_type": "stream",
          "name": "stdout",
          "text": [
            "element found at 2\n"
          ]
        }
      ]
    }
  ]
}