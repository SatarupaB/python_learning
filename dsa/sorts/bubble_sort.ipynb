{
  "nbformat": 4,
  "nbformat_minor": 0,
  "metadata": {
    "colab": {
      "provenance": [],
      "authorship_tag": "ABX9TyPyyZooj0Y8adg7gXPwrUzS",
      "include_colab_link": true
    },
    "kernelspec": {
      "name": "python3",
      "display_name": "Python 3"
    },
    "language_info": {
      "name": "python"
    }
  },
  "cells": [
    {
      "cell_type": "markdown",
      "metadata": {
        "id": "view-in-github",
        "colab_type": "text"
      },
      "source": [
        "<a href=\"https://colab.research.google.com/github/SatarupaB/python_learning/blob/main/dsa/sorts/bubble_sort.ipynb\" target=\"_parent\"><img src=\"https://colab.research.google.com/assets/colab-badge.svg\" alt=\"Open In Colab\"/></a>"
      ]
    },
    {
      "cell_type": "code",
      "source": [],
      "metadata": {
        "id": "BLI4MqYTcOFX"
      },
      "execution_count": null,
      "outputs": []
    },
    {
      "cell_type": "code",
      "execution_count": 2,
      "metadata": {
        "id": "hXQZvAkWHKKl"
      },
      "outputs": [],
      "source": [
        "# Bubble Sort repeatedly compares adjacent elements and swaps them\n",
        "# if they are in the wrong order, bubbling the largest unsorted element to the end in each pass.\n",
        "#https://www.youtube.com/watch?v=Dv4qLJcxus8#\n",
        "\n",
        "def bubble_sort(my_arr):\n",
        "    n = len(my_arr)\n",
        "    swapped = False  # Flag to detect if any swaps occurred\n",
        "\n",
        "    # Outer loop runs n-1 times because after n-1 passes,\n",
        "    # all elements will have bubbled to their correct positions\n",
        "    for i in range(n - 1):\n",
        "        # Compare adjacent elements in the unsorted part\n",
        "        for j in range(n - i - 1):\n",
        "            if my_arr[j] > my_arr[j + 1]:\n",
        "                # Swap if elements are in the wrong order\n",
        "                my_arr[j], my_arr[j + 1] = my_arr[j + 1], my_arr[j]\n",
        "                swapped = True\n",
        "        # If no swaps occurred, the list is already sorted\n",
        "        if not swapped:\n",
        "            break\n",
        "\n",
        "    print(\"Sorted array:\", my_arr)"
      ]
    },
    {
      "cell_type": "code",
      "source": [
        "bubble_sort([12, 7, 90, 100, 23, 9])"
      ],
      "metadata": {
        "colab": {
          "base_uri": "https://localhost:8080/"
        },
        "id": "nlKOAPR4dBlq",
        "outputId": "6e8c24aa-0fcf-4411-89fc-183fd8a23709"
      },
      "execution_count": null,
      "outputs": [
        {
          "output_type": "stream",
          "name": "stdout",
          "text": [
            "Sorted array: [7, 9, 12, 23, 90, 100]\n"
          ]
        }
      ]
    }
  ]
}