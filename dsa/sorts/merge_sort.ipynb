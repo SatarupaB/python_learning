{
  "nbformat": 4,
  "nbformat_minor": 0,
  "metadata": {
    "colab": {
      "provenance": [],
      "authorship_tag": "ABX9TyOG8OPengezMVxDpBawBNz+",
      "include_colab_link": true
    },
    "kernelspec": {
      "name": "python3",
      "display_name": "Python 3"
    },
    "language_info": {
      "name": "python"
    }
  },
  "cells": [
    {
      "cell_type": "markdown",
      "metadata": {
        "id": "view-in-github",
        "colab_type": "text"
      },
      "source": [
        "<a href=\"https://colab.research.google.com/github/SatarupaB/python_learning/blob/main/dsa/sorts/merge_sort.ipynb\" target=\"_parent\"><img src=\"https://colab.research.google.com/assets/colab-badge.svg\" alt=\"Open In Colab\"/></a>"
      ]
    },
    {
      "cell_type": "code",
      "execution_count": 16,
      "metadata": {
        "id": "oU24-QLnMeC5"
      },
      "outputs": [],
      "source": [
        "\n",
        "# Merge Sort is a divide-and-conquer algorithm that splits the list into halves,\n",
        "# recursively sorts them, and then merges the sorted halves into a final sorted list.\n",
        "#https://www.youtube.com/watch?v=3j0SWDX4AtU\n",
        "\n",
        "def merge_sort(my_arr):\n",
        "\n",
        "  # Base case: a list with 0 or 1 element is already sorted\n",
        "  if len(my_arr) <=1 :\n",
        "    return my_arr\n",
        "\n",
        "  # Split the list into two halves\n",
        "  mid = len(my_arr) // 2\n",
        "  left_arr = my_arr[:mid]\n",
        "  right_arr = my_arr[mid:]\n",
        "\n",
        "  # Recursively sort both halves\n",
        "\n",
        "  sorted_left = merge_sort(left_arr)\n",
        "  sorted_right = merge_sort(right_arr)\n",
        "\n",
        "  # Merge the sorted halves\n",
        "  return merge(sorted_left,sorted_right)\n",
        "\n",
        "def merge(sorted_left, sorted_right):\n",
        "\n",
        "  # This will contain the merged sorted list\n",
        "  final_arr = []\n",
        "  # Pointers for left and right lists\n",
        "  l =r =0\n",
        "\n",
        "  # Compare elements from left and right, and add the smallest to merged\n",
        "  while (l< len(sorted_left) and r< len(sorted_right)):\n",
        "    if sorted_left[l] < sorted_right[r]:\n",
        "      final_arr.append(sorted_left[l])\n",
        "      l+=1\n",
        "    else:\n",
        "      final_arr.append(sorted_right[r])\n",
        "      r+=1\n",
        "\n",
        "  # If any elements remain in left, add them all\n",
        "  while(l< len(sorted_left)):\n",
        "    final_arr.append(sorted_left[l])\n",
        "    l+=1\n",
        "\n",
        "  # If any elements remain in right, add them all\n",
        "  while(r< len(sorted_right)):\n",
        "    final_arr.append(sorted_right[r])\n",
        "    r+=1\n",
        "\n",
        "  return final_arr"
      ]
    },
    {
      "cell_type": "code",
      "source": [
        "sorted_arr = merge_sort([10, 4, 89, 100, 1])\n",
        "print(sorted_arr)"
      ],
      "metadata": {
        "colab": {
          "base_uri": "https://localhost:8080/"
        },
        "id": "5kVLpaK9PQDN",
        "outputId": "92d62db4-3598-439a-94c8-88f046effa27"
      },
      "execution_count": 17,
      "outputs": [
        {
          "output_type": "stream",
          "name": "stdout",
          "text": [
            "[1, 4, 10, 89, 100]\n"
          ]
        }
      ]
    }
  ]
}