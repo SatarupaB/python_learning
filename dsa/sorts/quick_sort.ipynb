{
  "nbformat": 4,
  "nbformat_minor": 0,
  "metadata": {
    "colab": {
      "provenance": [],
      "authorship_tag": "ABX9TyOSO5o4DXLs1SzIBPtlR7du",
      "include_colab_link": true
    },
    "kernelspec": {
      "name": "python3",
      "display_name": "Python 3"
    },
    "language_info": {
      "name": "python"
    }
  },
  "cells": [
    {
      "cell_type": "markdown",
      "metadata": {
        "id": "view-in-github",
        "colab_type": "text"
      },
      "source": [
        "<a href=\"https://colab.research.google.com/github/SatarupaB/python_learning/blob/main/dsa/sorts/quick_sort.ipynb\" target=\"_parent\"><img src=\"https://colab.research.google.com/assets/colab-badge.svg\" alt=\"Open In Colab\"/></a>"
      ]
    },
    {
      "cell_type": "code",
      "execution_count": 8,
      "metadata": {
        "id": "vrxafCxRRcNT"
      },
      "outputs": [],
      "source": [
        "# Quick Sort is a divide-and-conquer algorithm.\n",
        "# It picks a pivot element, partitions the array around the pivot such that\n",
        "# elements less than pivot come before it, and elements greater come after.\n",
        "# It then recursively applies the same logic to the subarrays.\n",
        "\n",
        "def quick_sort(my_arr):\n",
        "\n",
        "  indent = \"  \" # For visual indentation based on recursion depth\n",
        "\n",
        "  # Base case: if the array has 0 or 1 element, it's already sorted\n",
        "  if len(my_arr) <=1 :\n",
        "    print(f\"{indent}Base case reached with: {my_arr}\")\n",
        "    return my_arr\n",
        "\n",
        "  # Choose a pivot (here we take the last element)\n",
        "  pivot = my_arr[-1]\n",
        "  print(f\"{indent}Sorting: {my_arr} | Pivot: {pivot}\")\n",
        "\n",
        "  # Create three sublists\n",
        "  left = [] # Elements less than pivot value to be at the left of pivot.\n",
        "  right = [] # Elements greater than pivot value to be at the right of pivot.\n",
        "  equal = [] # Elements equal to pivot (for handling duplicates)\n",
        "\n",
        "  for num in my_arr :\n",
        "    if num < pivot:\n",
        "      left.append(num)\n",
        "    elif num > pivot:\n",
        "      right.append(num)\n",
        "    else:\n",
        "      equal.append(num)\n",
        "\n",
        "  print(f\"{indent}Left: {left}, Equal: {equal}, Right: {right}\")\n",
        "\n",
        "  # Recursively apply quick sort on left and right subarrays\n",
        "  result = quick_sort(left) + equal + quick_sort(right)\n",
        "  print(f\"{indent}Merged: {result}\")\n",
        "  return quick_sort(left) + equal + quick_sort(right)\n"
      ]
    },
    {
      "cell_type": "code",
      "source": [
        "sorted_arr = quick_sort([21, 5, 100, 7, 1])\n",
        "print(f\"print(sorted_arr): {sorted_arr}\")"
      ],
      "metadata": {
        "colab": {
          "base_uri": "https://localhost:8080/"
        },
        "id": "l1QZLyAGTtYn",
        "outputId": "fb845b73-4656-4a65-b6c5-466405da0117"
      },
      "execution_count": 10,
      "outputs": [
        {
          "output_type": "stream",
          "name": "stdout",
          "text": [
            "  Sorting: [21, 5, 100, 7, 1] | Pivot: 1\n",
            "  Left: [], Equal: [1], Right: [21, 5, 100, 7]\n",
            "  Base case reached with: []\n",
            "  Sorting: [21, 5, 100, 7] | Pivot: 7\n",
            "  Left: [5], Equal: [7], Right: [21, 100]\n",
            "  Base case reached with: [5]\n",
            "  Sorting: [21, 100] | Pivot: 100\n",
            "  Left: [21], Equal: [100], Right: []\n",
            "  Base case reached with: [21]\n",
            "  Base case reached with: []\n",
            "  Merged: [21, 100]\n",
            "  Base case reached with: [21]\n",
            "  Base case reached with: []\n",
            "  Merged: [5, 7, 21, 100]\n",
            "  Base case reached with: [5]\n",
            "  Sorting: [21, 100] | Pivot: 100\n",
            "  Left: [21], Equal: [100], Right: []\n",
            "  Base case reached with: [21]\n",
            "  Base case reached with: []\n",
            "  Merged: [21, 100]\n",
            "  Base case reached with: [21]\n",
            "  Base case reached with: []\n",
            "  Merged: [1, 5, 7, 21, 100]\n",
            "  Base case reached with: []\n",
            "  Sorting: [21, 5, 100, 7] | Pivot: 7\n",
            "  Left: [5], Equal: [7], Right: [21, 100]\n",
            "  Base case reached with: [5]\n",
            "  Sorting: [21, 100] | Pivot: 100\n",
            "  Left: [21], Equal: [100], Right: []\n",
            "  Base case reached with: [21]\n",
            "  Base case reached with: []\n",
            "  Merged: [21, 100]\n",
            "  Base case reached with: [21]\n",
            "  Base case reached with: []\n",
            "  Merged: [5, 7, 21, 100]\n",
            "  Base case reached with: [5]\n",
            "  Sorting: [21, 100] | Pivot: 100\n",
            "  Left: [21], Equal: [100], Right: []\n",
            "  Base case reached with: [21]\n",
            "  Base case reached with: []\n",
            "  Merged: [21, 100]\n",
            "  Base case reached with: [21]\n",
            "  Base case reached with: []\n",
            "print(sorted_arr): [1, 5, 7, 21, 100]\n"
          ]
        }
      ]
    }
  ]
}