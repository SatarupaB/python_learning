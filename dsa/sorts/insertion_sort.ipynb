{
  "nbformat": 4,
  "nbformat_minor": 0,
  "metadata": {
    "colab": {
      "provenance": [],
      "authorship_tag": "ABX9TyPotgOPZGSYxp3RRIxtws0q",
      "include_colab_link": true
    },
    "kernelspec": {
      "name": "python3",
      "display_name": "Python 3"
    },
    "language_info": {
      "name": "python"
    }
  },
  "cells": [
    {
      "cell_type": "markdown",
      "metadata": {
        "id": "view-in-github",
        "colab_type": "text"
      },
      "source": [
        "<a href=\"https://colab.research.google.com/github/SatarupaB/python_learning/blob/main/dsa/sorts/insertion_sort.ipynb\" target=\"_parent\"><img src=\"https://colab.research.google.com/assets/colab-badge.svg\" alt=\"Open In Colab\"/></a>"
      ]
    },
    {
      "cell_type": "code",
      "execution_count": 7,
      "metadata": {
        "id": "ZsZlNWcCDtKS"
      },
      "outputs": [],
      "source": [
        "# Selection Sort finds the minimum element in the unsorted part of the list and swaps it with the element at the beginning, repeating this process until the entire list is sorted.\n",
        "# https://www.youtube.com/watch?app=desktop&v=8mJ-OhcfpYg\n",
        "def insertion_sort(my_arr):\n",
        "    n = len(my_arr)\n",
        "\n",
        "    # Traverse the array from the second element onward\n",
        "    for i in range(1, n):\n",
        "        temp_loc_val = my_arr[i]  # Store the current value to be inserted\n",
        "        j = i - 1  # Start comparing with the previous (sorted) part of the array\n",
        "\n",
        "        # Shift elements that are greater than temp_loc_val to the right\n",
        "        while j >= 0 and my_arr[j] > temp_loc_val:\n",
        "            my_arr[j + 1] = my_arr[j]\n",
        "            j = j - 1\n",
        "\n",
        "        # Insert the stored value at the correct position found (just after j)\n",
        "        # as the value to the left is either smaller or equal to value at temp_loc_val. Hence insert temp_loc_val at (j + 1) index\n",
        "        my_arr[j + 1] = temp_loc_val  # ← Insert temp_loc_val after shifting larger elements\n",
        "\n",
        "    print(my_arr)\n"
      ]
    },
    {
      "cell_type": "code",
      "source": [
        "insertion_sort([2, 67, 1, 2, 90, 100, 23])"
      ],
      "metadata": {
        "colab": {
          "base_uri": "https://localhost:8080/"
        },
        "id": "3kkRXJnIFJBA",
        "outputId": "a4938884-825c-4cdc-f232-5e1512816e45"
      },
      "execution_count": 8,
      "outputs": [
        {
          "output_type": "stream",
          "name": "stdout",
          "text": [
            "[1, 2, 2, 23, 67, 90, 100]\n"
          ]
        }
      ]
    }
  ]
}