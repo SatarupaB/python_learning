{
  "nbformat": 4,
  "nbformat_minor": 0,
  "metadata": {
    "colab": {
      "provenance": [],
      "authorship_tag": "ABX9TyOgKB6z0njUBhk38Q+wG1M9",
      "include_colab_link": true
    },
    "kernelspec": {
      "name": "python3",
      "display_name": "Python 3"
    },
    "language_info": {
      "name": "python"
    }
  },
  "cells": [
    {
      "cell_type": "markdown",
      "metadata": {
        "id": "view-in-github",
        "colab_type": "text"
      },
      "source": [
        "<a href=\"https://colab.research.google.com/github/SatarupaB/python_learning/blob/main/dsa/sorts/selection_sort.ipynb\" target=\"_parent\"><img src=\"https://colab.research.google.com/assets/colab-badge.svg\" alt=\"Open In Colab\"/></a>"
      ]
    },
    {
      "cell_type": "code",
      "execution_count": null,
      "metadata": {
        "collapsed": true,
        "id": "v60JJ2_3jJGx"
      },
      "outputs": [],
      "source": [
        "def selection_sort(my_arr):\n",
        "    # Selection Sort repeatedly selects the smallest element from the unsorted part\n",
        "    # of the array and swaps it with the first unsorted element, moving the sorted boundary forward.\n",
        "    # Get the length of the array\n",
        "    # https://www.youtube.com/watch?v=EwjnF7rFLns\n",
        "    n = len(my_arr)\n",
        "\n",
        "    # Traverse through all array elements\n",
        "    for i in range(n):\n",
        "        # Assume the current index has the smallest element\n",
        "        min_index = i\n",
        "\n",
        "        # Check the rest of the array to find the actual minimum element\n",
        "        for j in range(i + 1, n):\n",
        "            # Update min_index if a smaller element is found\n",
        "            if my_arr[j] < my_arr[min_index]:\n",
        "                min_index = j\n",
        "\n",
        "        # Swap the found minimum element with the element at index i\n",
        "        my_arr[i], my_arr[min_index] = my_arr[min_index], my_arr[i]\n",
        "\n",
        "    # Print the sorted array\n",
        "    print(\"Sorted array:\", my_arr)\n"
      ]
    },
    {
      "cell_type": "code",
      "source": [
        "selection_sort([34, 67, 2, 89, 345])"
      ],
      "metadata": {
        "colab": {
          "base_uri": "https://localhost:8080/"
        },
        "id": "PaQCMF_kkSF7",
        "outputId": "61e30678-6dd3-463b-a69c-c2342d481cb0"
      },
      "execution_count": null,
      "outputs": [
        {
          "output_type": "stream",
          "name": "stdout",
          "text": [
            "Sorted array: [2, 34, 67, 89, 345]\n"
          ]
        }
      ]
    }
  ]
}